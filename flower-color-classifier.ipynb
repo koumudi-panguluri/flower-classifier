{
 "cells": [
  {
   "cell_type": "code",
   "execution_count": 1,
   "metadata": {
    "_cell_guid": "b1076dfc-b9ad-4769-8c92-a6c4dae69d19",
    "_uuid": "8f2839f25d086af736a60e9eeb907d3b93b6e0e5"
   },
   "outputs": [
    {
     "name": "stdout",
     "output_type": "stream",
     "text": [
      "/kaggle/input/flower-color-images/FlowerColorImages.h5\n",
      "/kaggle/input/flower-color-images/flower_images/__MACOSX/flower_images/._0021.png\n",
      "/kaggle/input/flower-color-images/flower_images/__MACOSX/flower_images/._0084.png\n",
      "/kaggle/input/flower-color-images/flower_images/__MACOSX/flower_images/._0166.png\n",
      "/kaggle/input/flower-color-images/flower_images/__MACOSX/flower_images/._0077.png\n",
      "/kaggle/input/flower-color-images/flower_images/__MACOSX/flower_images/._0139.png\n",
      "/kaggle/input/flower-color-images/flower_images/__MACOSX/flower_images/._0183.png\n",
      "/kaggle/input/flower-color-images/flower_images/__MACOSX/flower_images/._0130.png\n",
      "/kaggle/input/flower-color-images/flower_images/__MACOSX/flower_images/._0167.png\n",
      "/kaggle/input/flower-color-images/flower_images/__MACOSX/flower_images/._0064.png\n",
      "/kaggle/input/flower-color-images/flower_images/__MACOSX/flower_images/._0030.png\n",
      "/kaggle/input/flower-color-images/flower_images/__MACOSX/flower_images/._0091.png\n",
      "/kaggle/input/flower-color-images/flower_images/__MACOSX/flower_images/._0190.png\n",
      "/kaggle/input/flower-color-images/flower_images/__MACOSX/flower_images/._0140.png\n",
      "/kaggle/input/flower-color-images/flower_images/__MACOSX/flower_images/._0061.png\n",
      "/kaggle/input/flower-color-images/flower_images/__MACOSX/flower_images/._0196.png\n",
      "/kaggle/input/flower-color-images/flower_images/__MACOSX/flower_images/._0164.png\n",
      "/kaggle/input/flower-color-images/flower_images/__MACOSX/flower_images/._0106.png\n",
      "/kaggle/input/flower-color-images/flower_images/__MACOSX/flower_images/._0109.png\n",
      "/kaggle/input/flower-color-images/flower_images/__MACOSX/flower_images/._0137.png\n",
      "/kaggle/input/flower-color-images/flower_images/__MACOSX/flower_images/._.DS_Store\n",
      "/kaggle/input/flower-color-images/flower_images/__MACOSX/flower_images/._0121.png\n",
      "/kaggle/input/flower-color-images/flower_images/__MACOSX/flower_images/._0177.png\n",
      "/kaggle/input/flower-color-images/flower_images/__MACOSX/flower_images/._0195.png\n",
      "/kaggle/input/flower-color-images/flower_images/__MACOSX/flower_images/._0076.png\n",
      "/kaggle/input/flower-color-images/flower_images/__MACOSX/flower_images/._0098.png\n",
      "/kaggle/input/flower-color-images/flower_images/__MACOSX/flower_images/._0008.png\n",
      "/kaggle/input/flower-color-images/flower_images/__MACOSX/flower_images/._0206.png\n",
      "/kaggle/input/flower-color-images/flower_images/__MACOSX/flower_images/._0173.png\n",
      "/kaggle/input/flower-color-images/flower_images/__MACOSX/flower_images/._0192.png\n",
      "/kaggle/input/flower-color-images/flower_images/__MACOSX/flower_images/._0087.png\n",
      "/kaggle/input/flower-color-images/flower_images/__MACOSX/flower_images/._0035.png\n",
      "/kaggle/input/flower-color-images/flower_images/__MACOSX/flower_images/._0060.png\n",
      "/kaggle/input/flower-color-images/flower_images/__MACOSX/flower_images/._0145.png\n",
      "/kaggle/input/flower-color-images/flower_images/__MACOSX/flower_images/._0153.png\n",
      "/kaggle/input/flower-color-images/flower_images/__MACOSX/flower_images/._0020.png\n",
      "/kaggle/input/flower-color-images/flower_images/__MACOSX/flower_images/._0043.png\n",
      "/kaggle/input/flower-color-images/flower_images/__MACOSX/flower_images/._0146.png\n",
      "/kaggle/input/flower-color-images/flower_images/__MACOSX/flower_images/._0067.png\n",
      "/kaggle/input/flower-color-images/flower_images/__MACOSX/flower_images/._0149.png\n",
      "/kaggle/input/flower-color-images/flower_images/__MACOSX/flower_images/._0042.png\n",
      "/kaggle/input/flower-color-images/flower_images/__MACOSX/flower_images/._0205.png\n",
      "/kaggle/input/flower-color-images/flower_images/__MACOSX/flower_images/._0009.png\n",
      "/kaggle/input/flower-color-images/flower_images/__MACOSX/flower_images/._0122.png\n",
      "/kaggle/input/flower-color-images/flower_images/__MACOSX/flower_images/._0038.png\n",
      "/kaggle/input/flower-color-images/flower_images/__MACOSX/flower_images/._0111.png\n",
      "/kaggle/input/flower-color-images/flower_images/__MACOSX/flower_images/._0015.png\n",
      "/kaggle/input/flower-color-images/flower_images/__MACOSX/flower_images/._0180.png\n",
      "/kaggle/input/flower-color-images/flower_images/__MACOSX/flower_images/._0138.png\n",
      "/kaggle/input/flower-color-images/flower_images/__MACOSX/flower_images/._0201.png\n",
      "/kaggle/input/flower-color-images/flower_images/__MACOSX/flower_images/._0126.png\n",
      "/kaggle/input/flower-color-images/flower_images/__MACOSX/flower_images/._0152.png\n",
      "/kaggle/input/flower-color-images/flower_images/__MACOSX/flower_images/._0072.png\n",
      "/kaggle/input/flower-color-images/flower_images/__MACOSX/flower_images/._0006.png\n",
      "/kaggle/input/flower-color-images/flower_images/__MACOSX/flower_images/._0114.png\n",
      "/kaggle/input/flower-color-images/flower_images/__MACOSX/flower_images/._0029.png\n",
      "/kaggle/input/flower-color-images/flower_images/__MACOSX/flower_images/._0065.png\n",
      "/kaggle/input/flower-color-images/flower_images/__MACOSX/flower_images/._0198.png\n",
      "/kaggle/input/flower-color-images/flower_images/__MACOSX/flower_images/._0019.png\n",
      "/kaggle/input/flower-color-images/flower_images/__MACOSX/flower_images/._0093.png\n",
      "/kaggle/input/flower-color-images/flower_images/__MACOSX/flower_images/._0170.png\n",
      "/kaggle/input/flower-color-images/flower_images/__MACOSX/flower_images/._0018.png\n",
      "/kaggle/input/flower-color-images/flower_images/__MACOSX/flower_images/._0155.png\n",
      "/kaggle/input/flower-color-images/flower_images/__MACOSX/flower_images/._0135.png\n",
      "/kaggle/input/flower-color-images/flower_images/__MACOSX/flower_images/._0033.png\n",
      "/kaggle/input/flower-color-images/flower_images/__MACOSX/flower_images/._0105.png\n",
      "/kaggle/input/flower-color-images/flower_images/__MACOSX/flower_images/._0187.png\n",
      "/kaggle/input/flower-color-images/flower_images/__MACOSX/flower_images/._0207.png\n",
      "/kaggle/input/flower-color-images/flower_images/__MACOSX/flower_images/._0125.png\n",
      "/kaggle/input/flower-color-images/flower_images/__MACOSX/flower_images/._0157.png\n",
      "/kaggle/input/flower-color-images/flower_images/__MACOSX/flower_images/._0001.png\n",
      "/kaggle/input/flower-color-images/flower_images/__MACOSX/flower_images/._0161.png\n",
      "/kaggle/input/flower-color-images/flower_images/__MACOSX/flower_images/._0128.png\n",
      "/kaggle/input/flower-color-images/flower_images/__MACOSX/flower_images/._0131.png\n",
      "/kaggle/input/flower-color-images/flower_images/__MACOSX/flower_images/._0086.png\n",
      "/kaggle/input/flower-color-images/flower_images/__MACOSX/flower_images/._0062.png\n",
      "/kaggle/input/flower-color-images/flower_images/__MACOSX/flower_images/._0027.png\n",
      "/kaggle/input/flower-color-images/flower_images/__MACOSX/flower_images/._0037.png\n",
      "/kaggle/input/flower-color-images/flower_images/__MACOSX/flower_images/._0116.png\n",
      "/kaggle/input/flower-color-images/flower_images/__MACOSX/flower_images/._0034.png\n",
      "/kaggle/input/flower-color-images/flower_images/__MACOSX/flower_images/._0200.png\n",
      "/kaggle/input/flower-color-images/flower_images/__MACOSX/flower_images/._0118.png\n",
      "/kaggle/input/flower-color-images/flower_images/__MACOSX/flower_images/._0085.png\n",
      "/kaggle/input/flower-color-images/flower_images/__MACOSX/flower_images/._0095.png\n",
      "/kaggle/input/flower-color-images/flower_images/__MACOSX/flower_images/._0112.png\n",
      "/kaggle/input/flower-color-images/flower_images/__MACOSX/flower_images/._0113.png\n",
      "/kaggle/input/flower-color-images/flower_images/__MACOSX/flower_images/._0069.png\n",
      "/kaggle/input/flower-color-images/flower_images/__MACOSX/flower_images/._0081.png\n",
      "/kaggle/input/flower-color-images/flower_images/__MACOSX/flower_images/._0096.png\n",
      "/kaggle/input/flower-color-images/flower_images/__MACOSX/flower_images/._0048.png\n",
      "/kaggle/input/flower-color-images/flower_images/__MACOSX/flower_images/._0070.png\n",
      "/kaggle/input/flower-color-images/flower_images/__MACOSX/flower_images/._0119.png\n",
      "/kaggle/input/flower-color-images/flower_images/__MACOSX/flower_images/._0209.png\n",
      "/kaggle/input/flower-color-images/flower_images/__MACOSX/flower_images/._0088.png\n",
      "/kaggle/input/flower-color-images/flower_images/__MACOSX/flower_images/._0156.png\n",
      "/kaggle/input/flower-color-images/flower_images/__MACOSX/flower_images/._0143.png\n",
      "/kaggle/input/flower-color-images/flower_images/__MACOSX/flower_images/._0203.png\n",
      "/kaggle/input/flower-color-images/flower_images/__MACOSX/flower_images/._0102.png\n",
      "/kaggle/input/flower-color-images/flower_images/__MACOSX/flower_images/._0208.png\n",
      "/kaggle/input/flower-color-images/flower_images/__MACOSX/flower_images/._0165.png\n",
      "/kaggle/input/flower-color-images/flower_images/__MACOSX/flower_images/._0003.png\n",
      "/kaggle/input/flower-color-images/flower_images/__MACOSX/flower_images/._0044.png\n",
      "/kaggle/input/flower-color-images/flower_images/__MACOSX/flower_images/._0199.png\n",
      "/kaggle/input/flower-color-images/flower_images/__MACOSX/flower_images/._0014.png\n",
      "/kaggle/input/flower-color-images/flower_images/__MACOSX/flower_images/._0053.png\n",
      "/kaggle/input/flower-color-images/flower_images/__MACOSX/flower_images/._0168.png\n",
      "/kaggle/input/flower-color-images/flower_images/__MACOSX/flower_images/._0159.png\n",
      "/kaggle/input/flower-color-images/flower_images/__MACOSX/flower_images/._0039.png\n",
      "/kaggle/input/flower-color-images/flower_images/__MACOSX/flower_images/._0136.png\n",
      "/kaggle/input/flower-color-images/flower_images/__MACOSX/flower_images/._0120.png\n",
      "/kaggle/input/flower-color-images/flower_images/__MACOSX/flower_images/._0169.png\n",
      "/kaggle/input/flower-color-images/flower_images/__MACOSX/flower_images/._0090.png\n",
      "/kaggle/input/flower-color-images/flower_images/__MACOSX/flower_images/._0107.png\n",
      "/kaggle/input/flower-color-images/flower_images/__MACOSX/flower_images/._0082.png\n",
      "/kaggle/input/flower-color-images/flower_images/__MACOSX/flower_images/._0080.png\n",
      "/kaggle/input/flower-color-images/flower_images/__MACOSX/flower_images/._0074.png\n",
      "/kaggle/input/flower-color-images/flower_images/__MACOSX/flower_images/._0016.png\n",
      "/kaggle/input/flower-color-images/flower_images/__MACOSX/flower_images/._0051.png\n",
      "/kaggle/input/flower-color-images/flower_images/__MACOSX/flower_images/._0124.png\n",
      "/kaggle/input/flower-color-images/flower_images/__MACOSX/flower_images/._0184.png\n",
      "/kaggle/input/flower-color-images/flower_images/__MACOSX/flower_images/._0129.png\n",
      "/kaggle/input/flower-color-images/flower_images/__MACOSX/flower_images/._0046.png\n",
      "/kaggle/input/flower-color-images/flower_images/__MACOSX/flower_images/._0097.png\n",
      "/kaggle/input/flower-color-images/flower_images/__MACOSX/flower_images/._0059.png\n",
      "/kaggle/input/flower-color-images/flower_images/__MACOSX/flower_images/._0141.png\n",
      "/kaggle/input/flower-color-images/flower_images/__MACOSX/flower_images/._0057.png\n",
      "/kaggle/input/flower-color-images/flower_images/__MACOSX/flower_images/._0115.png\n",
      "/kaggle/input/flower-color-images/flower_images/__MACOSX/flower_images/._0017.png\n",
      "/kaggle/input/flower-color-images/flower_images/__MACOSX/flower_images/._0189.png\n",
      "/kaggle/input/flower-color-images/flower_images/__MACOSX/flower_images/._0054.png\n",
      "/kaggle/input/flower-color-images/flower_images/__MACOSX/flower_images/._0175.png\n",
      "/kaggle/input/flower-color-images/flower_images/__MACOSX/flower_images/._0182.png\n",
      "/kaggle/input/flower-color-images/flower_images/__MACOSX/flower_images/._0055.png\n",
      "/kaggle/input/flower-color-images/flower_images/__MACOSX/flower_images/._0007.png\n",
      "/kaggle/input/flower-color-images/flower_images/__MACOSX/flower_images/._0049.png\n",
      "/kaggle/input/flower-color-images/flower_images/__MACOSX/flower_images/._0127.png\n",
      "/kaggle/input/flower-color-images/flower_images/__MACOSX/flower_images/._0202.png\n",
      "/kaggle/input/flower-color-images/flower_images/__MACOSX/flower_images/._0193.png\n",
      "/kaggle/input/flower-color-images/flower_images/__MACOSX/flower_images/._0040.png\n",
      "/kaggle/input/flower-color-images/flower_images/__MACOSX/flower_images/._0099.png\n",
      "/kaggle/input/flower-color-images/flower_images/__MACOSX/flower_images/._0023.png\n",
      "/kaggle/input/flower-color-images/flower_images/__MACOSX/flower_images/._0026.png\n",
      "/kaggle/input/flower-color-images/flower_images/__MACOSX/flower_images/._0194.png\n",
      "/kaggle/input/flower-color-images/flower_images/__MACOSX/flower_images/._0094.png\n",
      "/kaggle/input/flower-color-images/flower_images/__MACOSX/flower_images/._0004.png\n",
      "/kaggle/input/flower-color-images/flower_images/__MACOSX/flower_images/._0133.png\n",
      "/kaggle/input/flower-color-images/flower_images/__MACOSX/flower_images/._0148.png\n",
      "/kaggle/input/flower-color-images/flower_images/__MACOSX/flower_images/._0092.png\n",
      "/kaggle/input/flower-color-images/flower_images/__MACOSX/flower_images/._0160.png\n",
      "/kaggle/input/flower-color-images/flower_images/__MACOSX/flower_images/._0058.png\n",
      "/kaggle/input/flower-color-images/flower_images/__MACOSX/flower_images/._0047.png\n",
      "/kaggle/input/flower-color-images/flower_images/__MACOSX/flower_images/._0103.png\n",
      "/kaggle/input/flower-color-images/flower_images/__MACOSX/flower_images/._0031.png\n",
      "/kaggle/input/flower-color-images/flower_images/__MACOSX/flower_images/._0083.png\n",
      "/kaggle/input/flower-color-images/flower_images/__MACOSX/flower_images/._0142.png\n",
      "/kaggle/input/flower-color-images/flower_images/__MACOSX/flower_images/._0012.png\n",
      "/kaggle/input/flower-color-images/flower_images/__MACOSX/flower_images/._0188.png\n",
      "/kaggle/input/flower-color-images/flower_images/__MACOSX/flower_images/._0050.png\n",
      "/kaggle/input/flower-color-images/flower_images/__MACOSX/flower_images/._0045.png\n",
      "/kaggle/input/flower-color-images/flower_images/__MACOSX/flower_images/._0101.png\n",
      "/kaggle/input/flower-color-images/flower_images/__MACOSX/flower_images/._0024.png\n",
      "/kaggle/input/flower-color-images/flower_images/__MACOSX/flower_images/._0104.png\n",
      "/kaggle/input/flower-color-images/flower_images/__MACOSX/flower_images/._0150.png\n",
      "/kaggle/input/flower-color-images/flower_images/__MACOSX/flower_images/._0079.png\n",
      "/kaggle/input/flower-color-images/flower_images/__MACOSX/flower_images/._0010.png\n",
      "/kaggle/input/flower-color-images/flower_images/__MACOSX/flower_images/._0123.png\n",
      "/kaggle/input/flower-color-images/flower_images/__MACOSX/flower_images/._0056.png\n",
      "/kaggle/input/flower-color-images/flower_images/__MACOSX/flower_images/._0197.png\n",
      "/kaggle/input/flower-color-images/flower_images/__MACOSX/flower_images/._0078.png\n",
      "/kaggle/input/flower-color-images/flower_images/__MACOSX/flower_images/._0162.png\n",
      "/kaggle/input/flower-color-images/flower_images/__MACOSX/flower_images/._0068.png\n",
      "/kaggle/input/flower-color-images/flower_images/__MACOSX/flower_images/._0032.png\n",
      "/kaggle/input/flower-color-images/flower_images/__MACOSX/flower_images/._0186.png\n",
      "/kaggle/input/flower-color-images/flower_images/__MACOSX/flower_images/._0075.png\n",
      "/kaggle/input/flower-color-images/flower_images/__MACOSX/flower_images/._0100.png\n",
      "/kaggle/input/flower-color-images/flower_images/__MACOSX/flower_images/._0134.png\n",
      "/kaggle/input/flower-color-images/flower_images/__MACOSX/flower_images/._0110.png\n",
      "/kaggle/input/flower-color-images/flower_images/__MACOSX/flower_images/._0144.png\n",
      "/kaggle/input/flower-color-images/flower_images/__MACOSX/flower_images/._0013.png\n",
      "/kaggle/input/flower-color-images/flower_images/__MACOSX/flower_images/._0178.png\n",
      "/kaggle/input/flower-color-images/flower_images/__MACOSX/flower_images/._0158.png\n",
      "/kaggle/input/flower-color-images/flower_images/__MACOSX/flower_images/._0071.png\n",
      "/kaggle/input/flower-color-images/flower_images/__MACOSX/flower_images/._0041.png\n",
      "/kaggle/input/flower-color-images/flower_images/__MACOSX/flower_images/._0154.png\n",
      "/kaggle/input/flower-color-images/flower_images/__MACOSX/flower_images/._0172.png\n",
      "/kaggle/input/flower-color-images/flower_images/__MACOSX/flower_images/._0073.png\n",
      "/kaggle/input/flower-color-images/flower_images/__MACOSX/flower_images/._0147.png\n",
      "/kaggle/input/flower-color-images/flower_images/__MACOSX/flower_images/._0163.png\n",
      "/kaggle/input/flower-color-images/flower_images/__MACOSX/flower_images/._0025.png\n",
      "/kaggle/input/flower-color-images/flower_images/__MACOSX/flower_images/._0066.png\n",
      "/kaggle/input/flower-color-images/flower_images/__MACOSX/flower_images/._0022.png\n",
      "/kaggle/input/flower-color-images/flower_images/__MACOSX/flower_images/._0108.png\n",
      "/kaggle/input/flower-color-images/flower_images/__MACOSX/flower_images/._0174.png\n",
      "/kaggle/input/flower-color-images/flower_images/__MACOSX/flower_images/._0185.png\n",
      "/kaggle/input/flower-color-images/flower_images/__MACOSX/flower_images/._0191.png\n",
      "/kaggle/input/flower-color-images/flower_images/__MACOSX/flower_images/._0028.png\n",
      "/kaggle/input/flower-color-images/flower_images/__MACOSX/flower_images/._0036.png\n",
      "/kaggle/input/flower-color-images/flower_images/__MACOSX/flower_images/._0171.png\n",
      "/kaggle/input/flower-color-images/flower_images/__MACOSX/flower_images/._0052.png\n",
      "/kaggle/input/flower-color-images/flower_images/__MACOSX/flower_images/._0011.png\n",
      "/kaggle/input/flower-color-images/flower_images/__MACOSX/flower_images/._0176.png\n",
      "/kaggle/input/flower-color-images/flower_images/__MACOSX/flower_images/._0132.png\n",
      "/kaggle/input/flower-color-images/flower_images/__MACOSX/flower_images/._0204.png\n",
      "/kaggle/input/flower-color-images/flower_images/__MACOSX/flower_images/._0181.png\n",
      "/kaggle/input/flower-color-images/flower_images/__MACOSX/flower_images/._0063.png\n",
      "/kaggle/input/flower-color-images/flower_images/__MACOSX/flower_images/._0002.png\n",
      "/kaggle/input/flower-color-images/flower_images/__MACOSX/flower_images/._0117.png\n",
      "/kaggle/input/flower-color-images/flower_images/__MACOSX/flower_images/._0210.png\n",
      "/kaggle/input/flower-color-images/flower_images/__MACOSX/flower_images/._0089.png\n",
      "/kaggle/input/flower-color-images/flower_images/__MACOSX/flower_images/._0151.png\n",
      "/kaggle/input/flower-color-images/flower_images/__MACOSX/flower_images/._0179.png\n",
      "/kaggle/input/flower-color-images/flower_images/__MACOSX/flower_images/._0005.png\n",
      "/kaggle/input/flower-color-images/flower_images/flower_images/0165.png\n",
      "/kaggle/input/flower-color-images/flower_images/flower_images/0121.png\n",
      "/kaggle/input/flower-color-images/flower_images/flower_images/0176.png\n",
      "/kaggle/input/flower-color-images/flower_images/flower_images/0127.png\n",
      "/kaggle/input/flower-color-images/flower_images/flower_images/0015.png\n",
      "/kaggle/input/flower-color-images/flower_images/flower_images/0062.png\n",
      "/kaggle/input/flower-color-images/flower_images/flower_images/0157.png\n",
      "/kaggle/input/flower-color-images/flower_images/flower_images/0095.png\n",
      "/kaggle/input/flower-color-images/flower_images/flower_images/0085.png\n",
      "/kaggle/input/flower-color-images/flower_images/flower_images/0011.png\n",
      "/kaggle/input/flower-color-images/flower_images/flower_images/0040.png\n",
      "/kaggle/input/flower-color-images/flower_images/flower_images/0175.png\n",
      "/kaggle/input/flower-color-images/flower_images/flower_images/0072.png\n",
      "/kaggle/input/flower-color-images/flower_images/flower_images/0048.png\n",
      "/kaggle/input/flower-color-images/flower_images/flower_images/0070.png\n",
      "/kaggle/input/flower-color-images/flower_images/flower_images/0171.png\n",
      "/kaggle/input/flower-color-images/flower_images/flower_images/0173.png\n",
      "/kaggle/input/flower-color-images/flower_images/flower_images/0151.png\n",
      "/kaggle/input/flower-color-images/flower_images/flower_images/0022.png\n",
      "/kaggle/input/flower-color-images/flower_images/flower_images/0013.png\n",
      "/kaggle/input/flower-color-images/flower_images/flower_images/0004.png\n",
      "/kaggle/input/flower-color-images/flower_images/flower_images/0067.png\n",
      "/kaggle/input/flower-color-images/flower_images/flower_images/0174.png\n",
      "/kaggle/input/flower-color-images/flower_images/flower_images/0027.png\n",
      "/kaggle/input/flower-color-images/flower_images/flower_images/0016.png\n",
      "/kaggle/input/flower-color-images/flower_images/flower_images/flower_labels.csv\n",
      "/kaggle/input/flower-color-images/flower_images/flower_images/0178.png\n",
      "/kaggle/input/flower-color-images/flower_images/flower_images/0101.png\n",
      "/kaggle/input/flower-color-images/flower_images/flower_images/0160.png\n",
      "/kaggle/input/flower-color-images/flower_images/flower_images/0044.png\n",
      "/kaggle/input/flower-color-images/flower_images/flower_images/0201.png\n",
      "/kaggle/input/flower-color-images/flower_images/flower_images/0088.png\n",
      "/kaggle/input/flower-color-images/flower_images/flower_images/0119.png\n",
      "/kaggle/input/flower-color-images/flower_images/flower_images/0097.png\n",
      "/kaggle/input/flower-color-images/flower_images/flower_images/0029.png\n",
      "/kaggle/input/flower-color-images/flower_images/flower_images/0094.png\n",
      "/kaggle/input/flower-color-images/flower_images/flower_images/0187.png\n",
      "/kaggle/input/flower-color-images/flower_images/flower_images/0041.png\n",
      "/kaggle/input/flower-color-images/flower_images/flower_images/0194.png\n",
      "/kaggle/input/flower-color-images/flower_images/flower_images/0198.png\n",
      "/kaggle/input/flower-color-images/flower_images/flower_images/0124.png\n",
      "/kaggle/input/flower-color-images/flower_images/flower_images/0080.png\n",
      "/kaggle/input/flower-color-images/flower_images/flower_images/0195.png\n",
      "/kaggle/input/flower-color-images/flower_images/flower_images/0190.png\n",
      "/kaggle/input/flower-color-images/flower_images/flower_images/0204.png\n",
      "/kaggle/input/flower-color-images/flower_images/flower_images/0147.png\n",
      "/kaggle/input/flower-color-images/flower_images/flower_images/0191.png\n",
      "/kaggle/input/flower-color-images/flower_images/flower_images/0058.png\n",
      "/kaggle/input/flower-color-images/flower_images/flower_images/0181.png\n",
      "/kaggle/input/flower-color-images/flower_images/flower_images/0168.png\n",
      "/kaggle/input/flower-color-images/flower_images/flower_images/0144.png\n",
      "/kaggle/input/flower-color-images/flower_images/flower_images/0076.png\n",
      "/kaggle/input/flower-color-images/flower_images/flower_images/0206.png\n",
      "/kaggle/input/flower-color-images/flower_images/flower_images/0197.png\n",
      "/kaggle/input/flower-color-images/flower_images/flower_images/0071.png\n",
      "/kaggle/input/flower-color-images/flower_images/flower_images/0087.png\n",
      "/kaggle/input/flower-color-images/flower_images/flower_images/0084.png\n",
      "/kaggle/input/flower-color-images/flower_images/flower_images/0110.png\n",
      "/kaggle/input/flower-color-images/flower_images/flower_images/0051.png\n",
      "/kaggle/input/flower-color-images/flower_images/flower_images/0123.png\n",
      "/kaggle/input/flower-color-images/flower_images/flower_images/0205.png\n",
      "/kaggle/input/flower-color-images/flower_images/flower_images/0064.png\n",
      "/kaggle/input/flower-color-images/flower_images/flower_images/0068.png\n",
      "/kaggle/input/flower-color-images/flower_images/flower_images/0169.png\n",
      "/kaggle/input/flower-color-images/flower_images/flower_images/0102.png\n",
      "/kaggle/input/flower-color-images/flower_images/flower_images/0055.png\n",
      "/kaggle/input/flower-color-images/flower_images/flower_images/0078.png\n",
      "/kaggle/input/flower-color-images/flower_images/flower_images/0075.png\n",
      "/kaggle/input/flower-color-images/flower_images/flower_images/0210.png\n",
      "/kaggle/input/flower-color-images/flower_images/flower_images/0010.png\n",
      "/kaggle/input/flower-color-images/flower_images/flower_images/0131.png\n",
      "/kaggle/input/flower-color-images/flower_images/flower_images/0182.png\n",
      "/kaggle/input/flower-color-images/flower_images/flower_images/0156.png\n",
      "/kaggle/input/flower-color-images/flower_images/flower_images/0006.png\n",
      "/kaggle/input/flower-color-images/flower_images/flower_images/0091.png\n",
      "/kaggle/input/flower-color-images/flower_images/flower_images/0057.png\n",
      "/kaggle/input/flower-color-images/flower_images/flower_images/0042.png\n",
      "/kaggle/input/flower-color-images/flower_images/flower_images/0002.png\n",
      "/kaggle/input/flower-color-images/flower_images/flower_images/0150.png\n",
      "/kaggle/input/flower-color-images/flower_images/flower_images/0118.png\n",
      "/kaggle/input/flower-color-images/flower_images/flower_images/0140.png\n",
      "/kaggle/input/flower-color-images/flower_images/flower_images/0026.png\n",
      "/kaggle/input/flower-color-images/flower_images/flower_images/0079.png\n",
      "/kaggle/input/flower-color-images/flower_images/flower_images/0149.png\n",
      "/kaggle/input/flower-color-images/flower_images/flower_images/0007.png\n",
      "/kaggle/input/flower-color-images/flower_images/flower_images/0005.png\n",
      "/kaggle/input/flower-color-images/flower_images/flower_images/0093.png\n",
      "/kaggle/input/flower-color-images/flower_images/flower_images/0021.png\n",
      "/kaggle/input/flower-color-images/flower_images/flower_images/0166.png\n",
      "/kaggle/input/flower-color-images/flower_images/flower_images/0114.png\n",
      "/kaggle/input/flower-color-images/flower_images/flower_images/0154.png\n",
      "/kaggle/input/flower-color-images/flower_images/flower_images/0148.png\n",
      "/kaggle/input/flower-color-images/flower_images/flower_images/0098.png\n",
      "/kaggle/input/flower-color-images/flower_images/flower_images/0034.png\n",
      "/kaggle/input/flower-color-images/flower_images/flower_images/0023.png\n",
      "/kaggle/input/flower-color-images/flower_images/flower_images/0200.png\n",
      "/kaggle/input/flower-color-images/flower_images/flower_images/0037.png\n",
      "/kaggle/input/flower-color-images/flower_images/flower_images/0028.png\n",
      "/kaggle/input/flower-color-images/flower_images/flower_images/0031.png\n",
      "/kaggle/input/flower-color-images/flower_images/flower_images/0107.png\n",
      "/kaggle/input/flower-color-images/flower_images/flower_images/0020.png\n",
      "/kaggle/input/flower-color-images/flower_images/flower_images/0130.png\n",
      "/kaggle/input/flower-color-images/flower_images/flower_images/0069.png\n",
      "/kaggle/input/flower-color-images/flower_images/flower_images/0086.png\n",
      "/kaggle/input/flower-color-images/flower_images/flower_images/0161.png\n",
      "/kaggle/input/flower-color-images/flower_images/flower_images/0126.png\n",
      "/kaggle/input/flower-color-images/flower_images/flower_images/0046.png\n",
      "/kaggle/input/flower-color-images/flower_images/flower_images/0112.png\n",
      "/kaggle/input/flower-color-images/flower_images/flower_images/0047.png\n",
      "/kaggle/input/flower-color-images/flower_images/flower_images/0096.png\n",
      "/kaggle/input/flower-color-images/flower_images/flower_images/0049.png\n",
      "/kaggle/input/flower-color-images/flower_images/flower_images/0186.png\n",
      "/kaggle/input/flower-color-images/flower_images/flower_images/0122.png\n",
      "/kaggle/input/flower-color-images/flower_images/flower_images/0030.png\n",
      "/kaggle/input/flower-color-images/flower_images/flower_images/0135.png\n",
      "/kaggle/input/flower-color-images/flower_images/flower_images/0089.png\n",
      "/kaggle/input/flower-color-images/flower_images/flower_images/0129.png\n",
      "/kaggle/input/flower-color-images/flower_images/flower_images/0208.png\n",
      "/kaggle/input/flower-color-images/flower_images/flower_images/0111.png\n",
      "/kaggle/input/flower-color-images/flower_images/flower_images/0125.png\n",
      "/kaggle/input/flower-color-images/flower_images/flower_images/0193.png\n",
      "/kaggle/input/flower-color-images/flower_images/flower_images/0120.png\n",
      "/kaggle/input/flower-color-images/flower_images/flower_images/0115.png\n",
      "/kaggle/input/flower-color-images/flower_images/flower_images/0033.png\n",
      "/kaggle/input/flower-color-images/flower_images/flower_images/0199.png\n",
      "/kaggle/input/flower-color-images/flower_images/flower_images/0063.png\n",
      "/kaggle/input/flower-color-images/flower_images/flower_images/0183.png\n",
      "/kaggle/input/flower-color-images/flower_images/flower_images/0014.png\n",
      "/kaggle/input/flower-color-images/flower_images/flower_images/0052.png\n",
      "/kaggle/input/flower-color-images/flower_images/flower_images/0038.png\n",
      "/kaggle/input/flower-color-images/flower_images/flower_images/0105.png\n",
      "/kaggle/input/flower-color-images/flower_images/flower_images/0188.png\n",
      "/kaggle/input/flower-color-images/flower_images/flower_images/0143.png\n",
      "/kaggle/input/flower-color-images/flower_images/flower_images/0189.png\n",
      "/kaggle/input/flower-color-images/flower_images/flower_images/0155.png\n",
      "/kaggle/input/flower-color-images/flower_images/flower_images/0045.png\n",
      "/kaggle/input/flower-color-images/flower_images/flower_images/.DS_Store\n",
      "/kaggle/input/flower-color-images/flower_images/flower_images/0009.png\n",
      "/kaggle/input/flower-color-images/flower_images/flower_images/0025.png\n",
      "/kaggle/input/flower-color-images/flower_images/flower_images/0207.png\n",
      "/kaggle/input/flower-color-images/flower_images/flower_images/0203.png\n",
      "/kaggle/input/flower-color-images/flower_images/flower_images/0001.png\n",
      "/kaggle/input/flower-color-images/flower_images/flower_images/0012.png\n",
      "/kaggle/input/flower-color-images/flower_images/flower_images/0139.png\n",
      "/kaggle/input/flower-color-images/flower_images/flower_images/0159.png\n",
      "/kaggle/input/flower-color-images/flower_images/flower_images/0196.png\n",
      "/kaggle/input/flower-color-images/flower_images/flower_images/0116.png\n",
      "/kaggle/input/flower-color-images/flower_images/flower_images/0163.png\n",
      "/kaggle/input/flower-color-images/flower_images/flower_images/0024.png\n",
      "/kaggle/input/flower-color-images/flower_images/flower_images/0017.png\n",
      "/kaggle/input/flower-color-images/flower_images/flower_images/0018.png\n",
      "/kaggle/input/flower-color-images/flower_images/flower_images/0090.png\n",
      "/kaggle/input/flower-color-images/flower_images/flower_images/0153.png\n",
      "/kaggle/input/flower-color-images/flower_images/flower_images/0061.png\n",
      "/kaggle/input/flower-color-images/flower_images/flower_images/0142.png\n",
      "/kaggle/input/flower-color-images/flower_images/flower_images/0081.png\n",
      "/kaggle/input/flower-color-images/flower_images/flower_images/0180.png\n",
      "/kaggle/input/flower-color-images/flower_images/flower_images/0082.png\n",
      "/kaggle/input/flower-color-images/flower_images/flower_images/0059.png\n",
      "/kaggle/input/flower-color-images/flower_images/flower_images/0039.png\n",
      "/kaggle/input/flower-color-images/flower_images/flower_images/0185.png\n",
      "/kaggle/input/flower-color-images/flower_images/flower_images/0141.png\n",
      "/kaggle/input/flower-color-images/flower_images/flower_images/0056.png\n",
      "/kaggle/input/flower-color-images/flower_images/flower_images/0162.png\n",
      "/kaggle/input/flower-color-images/flower_images/flower_images/0054.png\n",
      "/kaggle/input/flower-color-images/flower_images/flower_images/0172.png\n",
      "/kaggle/input/flower-color-images/flower_images/flower_images/0092.png\n",
      "/kaggle/input/flower-color-images/flower_images/flower_images/0177.png\n",
      "/kaggle/input/flower-color-images/flower_images/flower_images/0100.png\n",
      "/kaggle/input/flower-color-images/flower_images/flower_images/0035.png\n",
      "/kaggle/input/flower-color-images/flower_images/flower_images/0003.png\n",
      "/kaggle/input/flower-color-images/flower_images/flower_images/0099.png\n",
      "/kaggle/input/flower-color-images/flower_images/flower_images/0053.png\n",
      "/kaggle/input/flower-color-images/flower_images/flower_images/0128.png\n",
      "/kaggle/input/flower-color-images/flower_images/flower_images/0108.png\n",
      "/kaggle/input/flower-color-images/flower_images/flower_images/0104.png\n",
      "/kaggle/input/flower-color-images/flower_images/flower_images/0164.png\n",
      "/kaggle/input/flower-color-images/flower_images/flower_images/0043.png\n",
      "/kaggle/input/flower-color-images/flower_images/flower_images/0137.png\n",
      "/kaggle/input/flower-color-images/flower_images/flower_images/0074.png\n",
      "/kaggle/input/flower-color-images/flower_images/flower_images/0073.png\n",
      "/kaggle/input/flower-color-images/flower_images/flower_images/0146.png\n",
      "/kaggle/input/flower-color-images/flower_images/flower_images/0167.png\n",
      "/kaggle/input/flower-color-images/flower_images/flower_images/0179.png\n",
      "/kaggle/input/flower-color-images/flower_images/flower_images/0133.png\n",
      "/kaggle/input/flower-color-images/flower_images/flower_images/0202.png\n",
      "/kaggle/input/flower-color-images/flower_images/flower_images/0066.png\n",
      "/kaggle/input/flower-color-images/flower_images/flower_images/0103.png\n",
      "/kaggle/input/flower-color-images/flower_images/flower_images/0106.png\n",
      "/kaggle/input/flower-color-images/flower_images/flower_images/0077.png\n",
      "/kaggle/input/flower-color-images/flower_images/flower_images/0158.png\n",
      "/kaggle/input/flower-color-images/flower_images/flower_images/0184.png\n",
      "/kaggle/input/flower-color-images/flower_images/flower_images/0083.png\n",
      "/kaggle/input/flower-color-images/flower_images/flower_images/0170.png\n",
      "/kaggle/input/flower-color-images/flower_images/flower_images/0132.png\n",
      "/kaggle/input/flower-color-images/flower_images/flower_images/0050.png\n",
      "/kaggle/input/flower-color-images/flower_images/flower_images/0060.png\n",
      "/kaggle/input/flower-color-images/flower_images/flower_images/0109.png\n",
      "/kaggle/input/flower-color-images/flower_images/flower_images/0152.png\n",
      "/kaggle/input/flower-color-images/flower_images/flower_images/0134.png\n",
      "/kaggle/input/flower-color-images/flower_images/flower_images/0019.png\n",
      "/kaggle/input/flower-color-images/flower_images/flower_images/0065.png\n",
      "/kaggle/input/flower-color-images/flower_images/flower_images/0192.png\n",
      "/kaggle/input/flower-color-images/flower_images/flower_images/0113.png\n",
      "/kaggle/input/flower-color-images/flower_images/flower_images/0036.png\n",
      "/kaggle/input/flower-color-images/flower_images/flower_images/0136.png\n",
      "/kaggle/input/flower-color-images/flower_images/flower_images/0117.png\n",
      "/kaggle/input/flower-color-images/flower_images/flower_images/0209.png\n",
      "/kaggle/input/flower-color-images/flower_images/flower_images/0138.png\n",
      "/kaggle/input/flower-color-images/flower_images/flower_images/0032.png\n",
      "/kaggle/input/flower-color-images/flower_images/flower_images/0145.png\n",
      "/kaggle/input/flower-color-images/flower_images/flower_images/0008.png\n"
     ]
    }
   ],
   "source": [
    "# This Python 3 environment comes with many helpful analytics libraries installed\n",
    "# It is defined by the kaggle/python docker image: https://github.com/kaggle/docker-python\n",
    "# For example, here's several helpful packages to load in \n",
    "\n",
    "import numpy as np # linear algebra\n",
    "import pandas as pd # data processing, CSV file I/O (e.g. pd.read_csv)\n",
    "\n",
    "# Input data files are available in the \"../input/\" directory.\n",
    "# For example, running this (by clicking run or pressing Shift+Enter) will list all files under the input directory\n",
    "\n",
    "import os\n",
    "for dirname, _, filenames in os.walk('/kaggle/input'):\n",
    "    for filename in filenames:\n",
    "        print(os.path.join(dirname, filename))\n",
    "\n",
    "# Any results you write to the current directory are saved as output."
   ]
  },
  {
   "cell_type": "code",
   "execution_count": 2,
   "metadata": {},
   "outputs": [],
   "source": [
    "flowers=pd.read_csv('../input/flower-color-images/flower_images/flower_images/flower_labels.csv')\n",
    "flowers_images=flowers['file']\n",
    "flowers_label=flowers['label'].values"
   ]
  },
  {
   "cell_type": "code",
   "execution_count": 3,
   "metadata": {},
   "outputs": [
    {
     "name": "stdout",
     "output_type": "stream",
     "text": [
      "210\n"
     ]
    }
   ],
   "source": [
    "print(flowers_images.shape[0])\n",
    "#flowers_images=flowers_images.reshape(210,3)\n"
   ]
  },
  {
   "cell_type": "code",
   "execution_count": 4,
   "metadata": {},
   "outputs": [
    {
     "name": "stdout",
     "output_type": "stream",
     "text": [
      "(210,)\n"
     ]
    }
   ],
   "source": [
    "print(flowers_label.shape)"
   ]
  },
  {
   "cell_type": "code",
   "execution_count": 5,
   "metadata": {},
   "outputs": [
    {
     "name": "stdout",
     "output_type": "stream",
     "text": [
      "5\n"
     ]
    },
    {
     "data": {
      "image/png": "[encoded data removed]",
      "text/plain": [
       "<Figure size 216x216 with 1 Axes>"
      ]
     },
     "metadata": {
      "needs_background": "light"
     },
     "output_type": "display_data"
    }
   ],
   "source": [
    "import cv2\n",
    "from matplotlib import pyplot as plt\n",
    "x=np.random.randint(210)\n",
    "image=cv2.imread('../input/flower-color-images/flower_images/flower_images/'+flowers_images[x])\n",
    "plt.figure(figsize=(3,3))\n",
    "plt.imshow(image)\n",
    "print(flowers_label[x])\n"
   ]
  },
  {
   "cell_type": "code",
   "execution_count": 6,
   "metadata": {},
   "outputs": [
    {
     "name": "stderr",
     "output_type": "stream",
     "text": [
      "Using TensorFlow backend.\n"
     ]
    }
   ],
   "source": [
    "import keras\n",
    "from tqdm import tqdm\n",
    "from keras.preprocessing import image as keras_image\n",
    "def path_to_tensor(img_path):\n",
    "    img=keras_image.load_img('../input/flower-color-images/flower_images/flower_images/'+img_path,target_size=(28,28))\n",
    "    x=keras_image.img_to_array(img)\n",
    "    return np.expand_dims(x,axis=0)\n",
    "\n",
    "def paths_to_tensors(img_paths):\n",
    "    list_of_tensors=[path_to_tensor(img_path) for img_path in tqdm(img_paths)]\n",
    "    return np.vstack(list_of_tensors)"
   ]
  },
  {
   "cell_type": "code",
   "execution_count": 7,
   "metadata": {},
   "outputs": [
    {
     "name": "stderr",
     "output_type": "stream",
     "text": [
      "100%|██████████| 210/210 [00:00<00:00, 260.33it/s]\n"
     ]
    }
   ],
   "source": [
    "flowers_tensors=paths_to_tensors(flowers_images)"
   ]
  },
  {
   "cell_type": "code",
   "execution_count": 8,
   "metadata": {},
   "outputs": [],
   "source": [
    "from sklearn.model_selection import train_test_split\n",
    "\n"
   ]
  },
  {
   "cell_type": "code",
   "execution_count": 9,
   "metadata": {},
   "outputs": [],
   "source": [
    "x_train,x_test,y_train,y_test=train_test_split(flowers_tensors,flowers_label,test_size=0.2,random_state=1)"
   ]
  },
  {
   "cell_type": "code",
   "execution_count": 10,
   "metadata": {},
   "outputs": [
    {
     "data": {
      "text/plain": [
       "[(168, 28, 28, 3), (168,), (42, 28, 28, 3), (42,)]"
      ]
     },
     "execution_count": 10,
     "metadata": {},
     "output_type": "execute_result"
    }
   ],
   "source": [
    "[x_train.shape,y_train.shape,x_test.shape,y_test.shape]"
   ]
  },
  {
   "cell_type": "code",
   "execution_count": 11,
   "metadata": {},
   "outputs": [],
   "source": [
    "img_rows=28\n",
    "img_cols=28\n",
    "input_shape=(img_rows,img_cols,3)\n",
    "x_train=x_train.astype('float32')\n",
    "x_test=x_test.astype('float32')\n",
    "x_train/=255\n",
    "x_test/=255"
   ]
  },
  {
   "cell_type": "code",
   "execution_count": 12,
   "metadata": {},
   "outputs": [],
   "source": [
    "y_train=keras.utils.to_categorical(y_train)\n",
    "y_test=keras.utils.to_categorical(y_test)"
   ]
  },
  {
   "cell_type": "code",
   "execution_count": 13,
   "metadata": {},
   "outputs": [
    {
     "data": {
      "text/plain": [
       "(168, 10)"
      ]
     },
     "execution_count": 13,
     "metadata": {},
     "output_type": "execute_result"
    }
   ],
   "source": [
    "y_train.shape"
   ]
  },
  {
   "cell_type": "code",
   "execution_count": null,
   "metadata": {},
   "outputs": [],
   "source": [
    "\n"
   ]
  },
  {
   "cell_type": "code",
   "execution_count": null,
   "metadata": {},
   "outputs": [],
   "source": []
  },
  {
   "cell_type": "code",
   "execution_count": 14,
   "metadata": {},
   "outputs": [],
   "source": [
    "from keras.layers import Dense, Dropout, Flatten\n",
    "from keras.layers import MaxPooling2D, Conv2D\n",
    "from keras.layers import BatchNormalization\n",
    "from keras.models import Model, Sequential, load_model\n",
    "from keras.optimizers import SGD, RMSprop, Adam\n",
    "from keras.preprocessing.image import ImageDataGenerator\n",
    "from sklearn.metrics import confusion_matrix, classification_report"
   ]
  },
  {
   "cell_type": "code",
   "execution_count": 15,
   "metadata": {},
   "outputs": [
    {
     "name": "stdout",
     "output_type": "stream",
     "text": [
      "Model: \"sequential_1\"\n",
      "_________________________________________________________________\n",
      "Layer (type)                 Output Shape              Param #   \n",
      "=================================================================\n",
      "conv2d_1 (Conv2D)            (None, 28, 28, 64)        1792      \n",
      "_________________________________________________________________\n",
      "batch_normalization_1 (Batch (None, 28, 28, 64)        256       \n",
      "_________________________________________________________________\n",
      "conv2d_2 (Conv2D)            (None, 28, 28, 64)        36928     \n",
      "_________________________________________________________________\n",
      "batch_normalization_2 (Batch (None, 28, 28, 64)        256       \n",
      "_________________________________________________________________\n",
      "max_pooling2d_1 (MaxPooling2 (None, 14, 14, 64)        0         \n",
      "_________________________________________________________________\n",
      "dropout_1 (Dropout)          (None, 14, 14, 64)        0         \n",
      "_________________________________________________________________\n",
      "conv2d_3 (Conv2D)            (None, 14, 14, 128)       73856     \n",
      "_________________________________________________________________\n",
      "batch_normalization_3 (Batch (None, 14, 14, 128)       512       \n",
      "_________________________________________________________________\n",
      "conv2d_4 (Conv2D)            (None, 14, 14, 128)       147584    \n",
      "_________________________________________________________________\n",
      "batch_normalization_4 (Batch (None, 14, 14, 128)       512       \n",
      "_________________________________________________________________\n",
      "max_pooling2d_2 (MaxPooling2 (None, 7, 7, 128)         0         \n",
      "_________________________________________________________________\n",
      "dropout_2 (Dropout)          (None, 7, 7, 128)         0         \n",
      "_________________________________________________________________\n",
      "conv2d_5 (Conv2D)            (None, 7, 7, 256)         295168    \n",
      "_________________________________________________________________\n",
      "batch_normalization_5 (Batch (None, 7, 7, 256)         1024      \n",
      "_________________________________________________________________\n",
      "conv2d_6 (Conv2D)            (None, 7, 7, 256)         590080    \n",
      "_________________________________________________________________\n",
      "batch_normalization_6 (Batch (None, 7, 7, 256)         1024      \n",
      "_________________________________________________________________\n",
      "max_pooling2d_3 (MaxPooling2 (None, 3, 3, 256)         0         \n",
      "_________________________________________________________________\n",
      "dropout_3 (Dropout)          (None, 3, 3, 256)         0         \n",
      "_________________________________________________________________\n",
      "flatten_1 (Flatten)          (None, 2304)              0         \n",
      "_________________________________________________________________\n",
      "dense_1 (Dense)              (None, 256)               590080    \n",
      "_________________________________________________________________\n",
      "batch_normalization_7 (Batch (None, 256)               1024      \n",
      "_________________________________________________________________\n",
      "dropout_4 (Dropout)          (None, 256)               0         \n",
      "_________________________________________________________________\n",
      "dense_2 (Dense)              (None, 256)               65792     \n",
      "_________________________________________________________________\n",
      "batch_normalization_8 (Batch (None, 256)               1024      \n",
      "_________________________________________________________________\n",
      "dropout_5 (Dropout)          (None, 256)               0         \n",
      "_________________________________________________________________\n",
      "dense_3 (Dense)              (None, 10)                2570      \n",
      "=================================================================\n",
      "Total params: 1,809,482\n",
      "Trainable params: 1,806,666\n",
      "Non-trainable params: 2,816\n",
      "_________________________________________________________________\n",
      "None\n"
     ]
    }
   ],
   "source": [
    "num_classes=10\n",
    "model=Sequential()\n",
    "\n",
    "model.add(Conv2D(64,kernel_size=(3,3),padding='same',input_shape=input_shape,activation='relu'))\n",
    "model.add(BatchNormalization())\n",
    "model.add(Conv2D(64,(3,3),padding='same',activation='relu'))\n",
    "model.add(BatchNormalization())\n",
    "model.add(MaxPooling2D(pool_size=(2,2)))\n",
    "model.add(Dropout(0.2))\n",
    "\n",
    "model.add(Conv2D(128,kernel_size=(3,3),padding='same',activation='relu'))\n",
    "model.add(BatchNormalization())\n",
    "model.add(Conv2D(128,(3,3),padding='same',activation='relu'))\n",
    "model.add(BatchNormalization())\n",
    "model.add(MaxPooling2D(pool_size=(2,2)))\n",
    "model.add(Dropout(0.2))\n",
    "\n",
    "model.add(Conv2D(256,kernel_size=(3,3),padding='same',activation='relu'))\n",
    "model.add(BatchNormalization())\n",
    "model.add(Conv2D(256,(3,3),padding='same',activation='relu'))\n",
    "model.add(BatchNormalization())\n",
    "model.add(MaxPooling2D(pool_size=(2,2)))\n",
    "model.add(Dropout(0.2))\n",
    "\n",
    "model.add(Flatten())\n",
    "model.add(Dense(256,activation='relu'))\n",
    "model.add(BatchNormalization())\n",
    "model.add(Dropout(0.5))\n",
    "\n",
    "model.add(Dense(256,activation='relu'))\n",
    "model.add(BatchNormalization())\n",
    "model.add(Dropout(0.5))\n",
    "\n",
    "model.add(Dense(num_classes,activation='softmax'))\n",
    "print(model.summary())"
   ]
  },
  {
   "cell_type": "code",
   "execution_count": 16,
   "metadata": {},
   "outputs": [],
   "source": [
    "from keras.optimizers import RMSprop\n",
    "from keras.callbacks import ModelCheckpoint, EarlyStopping\n",
    "earlystopping=EarlyStopping(monitor='val_loss',min_delta=0,patience=3,verbose=1,restore_best_weights=True)"
   ]
  },
  {
   "cell_type": "code",
   "execution_count": 17,
   "metadata": {},
   "outputs": [],
   "source": [
    "model.compile(loss='categorical_crossentropy', optimizer=Adam(lr=0.001),metrics=['accuracy'])"
   ]
  },
  {
   "cell_type": "code",
   "execution_count": 18,
   "metadata": {},
   "outputs": [
    {
     "name": "stdout",
     "output_type": "stream",
     "text": [
      "Train on 168 samples, validate on 42 samples\n",
      "Epoch 1/25\n",
      "168/168 [==============================] - 3s 19ms/step - loss: 3.3632 - accuracy: 0.1607 - val_loss: 2.3152 - val_accuracy: 0.0714\n",
      "Epoch 2/25\n",
      "168/168 [==============================] - 0s 578us/step - loss: 2.5219 - accuracy: 0.2857 - val_loss: 2.3841 - val_accuracy: 0.0714\n",
      "Epoch 3/25\n",
      "168/168 [==============================] - 0s 567us/step - loss: 2.0996 - accuracy: 0.3452 - val_loss: 2.4687 - val_accuracy: 0.0714\n",
      "Epoch 4/25\n",
      "168/168 [==============================] - 0s 562us/step - loss: 2.0406 - accuracy: 0.3571 - val_loss: 2.5726 - val_accuracy: 0.0714\n",
      "Epoch 5/25\n",
      "168/168 [==============================] - 0s 616us/step - loss: 1.7683 - accuracy: 0.5000 - val_loss: 2.6799 - val_accuracy: 0.0714\n",
      "Epoch 6/25\n",
      "168/168 [==============================] - 0s 790us/step - loss: 1.6025 - accuracy: 0.4226 - val_loss: 2.8018 - val_accuracy: 0.0714\n",
      "Epoch 7/25\n",
      "168/168 [==============================] - 0s 676us/step - loss: 1.5530 - accuracy: 0.5060 - val_loss: 3.0498 - val_accuracy: 0.0714\n",
      "Epoch 8/25\n",
      "168/168 [==============================] - 0s 676us/step - loss: 1.4511 - accuracy: 0.4583 - val_loss: 3.1651 - val_accuracy: 0.0714\n",
      "Epoch 9/25\n",
      "168/168 [==============================] - 0s 658us/step - loss: 1.3666 - accuracy: 0.5833 - val_loss: 3.3754 - val_accuracy: 0.0714\n",
      "Epoch 10/25\n",
      "168/168 [==============================] - 0s 581us/step - loss: 1.2439 - accuracy: 0.5714 - val_loss: 3.4735 - val_accuracy: 0.0714\n",
      "Epoch 11/25\n",
      "168/168 [==============================] - 0s 549us/step - loss: 0.8196 - accuracy: 0.6964 - val_loss: 3.6558 - val_accuracy: 0.0714\n",
      "Epoch 12/25\n",
      "168/168 [==============================] - 0s 554us/step - loss: 0.9616 - accuracy: 0.6607 - val_loss: 3.5984 - val_accuracy: 0.0714\n",
      "Epoch 13/25\n",
      "168/168 [==============================] - 0s 566us/step - loss: 0.9360 - accuracy: 0.6845 - val_loss: 3.5157 - val_accuracy: 0.0714\n",
      "Epoch 14/25\n",
      "168/168 [==============================] - 0s 612us/step - loss: 0.9236 - accuracy: 0.6786 - val_loss: 3.2786 - val_accuracy: 0.0714\n",
      "Epoch 15/25\n",
      "168/168 [==============================] - 0s 701us/step - loss: 0.9063 - accuracy: 0.6310 - val_loss: 3.2674 - val_accuracy: 0.1190\n",
      "Epoch 16/25\n",
      "168/168 [==============================] - 0s 585us/step - loss: 0.9248 - accuracy: 0.6786 - val_loss: 3.3800 - val_accuracy: 0.1190\n",
      "Epoch 17/25\n",
      "168/168 [==============================] - 0s 563us/step - loss: 0.7836 - accuracy: 0.7202 - val_loss: 3.5248 - val_accuracy: 0.1190\n",
      "Epoch 18/25\n",
      "168/168 [==============================] - 0s 555us/step - loss: 0.7191 - accuracy: 0.7619 - val_loss: 3.6316 - val_accuracy: 0.1190\n",
      "Epoch 19/25\n",
      "168/168 [==============================] - 0s 544us/step - loss: 0.6298 - accuracy: 0.7798 - val_loss: 3.6170 - val_accuracy: 0.1190\n",
      "Epoch 20/25\n",
      "168/168 [==============================] - 0s 552us/step - loss: 0.7613 - accuracy: 0.7738 - val_loss: 3.7346 - val_accuracy: 0.0714\n",
      "Epoch 21/25\n",
      "168/168 [==============================] - 0s 570us/step - loss: 0.5497 - accuracy: 0.7976 - val_loss: 4.2391 - val_accuracy: 0.0714\n",
      "Epoch 22/25\n",
      "168/168 [==============================] - 0s 557us/step - loss: 0.6307 - accuracy: 0.7857 - val_loss: 4.2895 - val_accuracy: 0.0714\n",
      "Epoch 23/25\n",
      "168/168 [==============================] - 0s 585us/step - loss: 0.6929 - accuracy: 0.7381 - val_loss: 4.2589 - val_accuracy: 0.0952\n",
      "Epoch 24/25\n",
      "168/168 [==============================] - 0s 559us/step - loss: 0.4966 - accuracy: 0.8214 - val_loss: 4.1166 - val_accuracy: 0.1429\n",
      "Epoch 25/25\n",
      "168/168 [==============================] - 0s 606us/step - loss: 0.5024 - accuracy: 0.8214 - val_loss: 4.7124 - val_accuracy: 0.1190\n"
     ]
    }
   ],
   "source": [
    "callbacks=[earlystopping]\n",
    "history=model.fit(x_train,y_train,epochs=25,batch_size=32,validation_data=(x_test,y_test))"
   ]
  },
  {
   "cell_type": "code",
   "execution_count": 19,
   "metadata": {},
   "outputs": [
    {
     "name": "stdout",
     "output_type": "stream",
     "text": [
      "LOSS :  4.712393397376651\n",
      "ACCURACY :  0.1190476194024086\n"
     ]
    }
   ],
   "source": [
    "score=model.evaluate(x_test,y_test,verbose=0)\n",
    "print(\"LOSS : \", score[0])\n",
    "print(\"ACCURACY : \", score[1])"
   ]
  },
  {
   "cell_type": "code",
   "execution_count": 20,
   "metadata": {},
   "outputs": [
    {
     "name": "stdout",
     "output_type": "stream",
     "text": [
      "Epoch 1/10\n",
      "189/189 [==============================] - 6s 34ms/step - loss: 2.0765 - accuracy: 0.3903 - val_loss: 4.0627 - val_accuracy: 0.0714\n",
      "Epoch 2/10\n",
      "189/189 [==============================] - 6s 33ms/step - loss: 1.6047 - accuracy: 0.4691 - val_loss: 2.2452 - val_accuracy: 0.3810\n",
      "Epoch 3/10\n",
      "189/189 [==============================] - 6s 34ms/step - loss: 1.3741 - accuracy: 0.5428 - val_loss: 1.3476 - val_accuracy: 0.6905\n",
      "Epoch 4/10\n",
      "189/189 [==============================] - 6s 33ms/step - loss: 1.1903 - accuracy: 0.6027 - val_loss: 2.2272 - val_accuracy: 0.5238\n",
      "Epoch 5/10\n",
      "189/189 [==============================] - 6s 34ms/step - loss: 1.1618 - accuracy: 0.6233 - val_loss: 1.8424 - val_accuracy: 0.5952\n",
      "Epoch 6/10\n",
      "189/189 [==============================] - 6s 33ms/step - loss: 1.0339 - accuracy: 0.6580 - val_loss: 1.4723 - val_accuracy: 0.6667\n",
      "Restoring model weights from the end of the best epoch\n",
      "Epoch 00006: early stopping\n"
     ]
    }
   ],
   "source": [
    "data_generator = keras_image.ImageDataGenerator(shear_range=0.2, \n",
    "                                                zoom_range=0.3,\n",
    "                                                rotation_range=30,\n",
    "                                                width_shift_range=20,\n",
    "                                                height_shift_range=20,\n",
    "                                                horizontal_flip=True)\n",
    "cnn_history =model.fit_generator(data_generator.flow(x_train, y_train, batch_size=32),\n",
    "                                               steps_per_epoch=189, epochs=10, callbacks=callbacks,\n",
    "                                               validation_data=(x_test, y_test))"
   ]
  },
  {
   "cell_type": "code",
   "execution_count": 21,
   "metadata": {},
   "outputs": [
    {
     "name": "stdout",
     "output_type": "stream",
     "text": [
      "LOSS :  1.347646435101827\n",
      "ACCURACY :  0.6904761791229248\n"
     ]
    }
   ],
   "source": [
    "score=model.evaluate(x_test,y_test,verbose=0)\n",
    "print(\"LOSS : \", score[0])\n",
    "print(\"ACCURACY : \", score[1])"
   ]
  },
  {
   "cell_type": "code",
   "execution_count": 22,
   "metadata": {},
   "outputs": [],
   "source": [
    "Y_pred = model.predict(x_test)\n",
    "y_pred = np.argmax(Y_pred, axis=1)\n"
   ]
  },
  {
   "cell_type": "code",
   "execution_count": 23,
   "metadata": {},
   "outputs": [
    {
     "data": {
      "text/plain": [
       "array([1, 6, 4, 4, 8, 4, 4, 6, 6, 9, 5, 1, 3, 6, 8, 3, 8, 3, 2, 6, 5, 6,\n",
       "       5, 4, 9, 2, 8, 7, 1, 1, 2, 4, 6, 6, 6, 3, 1, 6, 5, 4, 7, 8])"
      ]
     },
     "execution_count": 23,
     "metadata": {},
     "output_type": "execute_result"
    }
   ],
   "source": [
    "y_pred"
   ]
  },
  {
   "cell_type": "code",
   "execution_count": 24,
   "metadata": {},
   "outputs": [
    {
     "data": {
      "text/html": [
       "<div>\n",
       "<style scoped>\n",
       "    .dataframe tbody tr th:only-of-type {\n",
       "        vertical-align: middle;\n",
       "    }\n",
       "\n",
       "    .dataframe tbody tr th {\n",
       "        vertical-align: top;\n",
       "    }\n",
       "\n",
       "    .dataframe thead th {\n",
       "        text-align: right;\n",
       "    }\n",
       "</style>\n",
       "<table border=\"1\" class=\"dataframe\">\n",
       "  <thead>\n",
       "    <tr style=\"text-align: right;\">\n",
       "      <th></th>\n",
       "      <th>Label</th>\n",
       "    </tr>\n",
       "  </thead>\n",
       "  <tbody>\n",
       "    <tr>\n",
       "      <td>0</td>\n",
       "      <td>1</td>\n",
       "    </tr>\n",
       "    <tr>\n",
       "      <td>1</td>\n",
       "      <td>6</td>\n",
       "    </tr>\n",
       "    <tr>\n",
       "      <td>2</td>\n",
       "      <td>4</td>\n",
       "    </tr>\n",
       "    <tr>\n",
       "      <td>3</td>\n",
       "      <td>4</td>\n",
       "    </tr>\n",
       "    <tr>\n",
       "      <td>4</td>\n",
       "      <td>8</td>\n",
       "    </tr>\n",
       "  </tbody>\n",
       "</table>\n",
       "</div>"
      ],
      "text/plain": [
       "   Label\n",
       "0      1\n",
       "1      6\n",
       "2      4\n",
       "3      4\n",
       "4      8"
      ]
     },
     "execution_count": 24,
     "metadata": {},
     "output_type": "execute_result"
    }
   ],
   "source": [
    "submission=pd.DataFrame({'Label' : y_pred})\n",
    "submission.head()"
   ]
  },
  {
   "cell_type": "code",
   "execution_count": 25,
   "metadata": {},
   "outputs": [
    {
     "name": "stdout",
     "output_type": "stream",
     "text": [
      "Saved file: Flower Color Classifier.csv\n"
     ]
    }
   ],
   "source": [
    "filename = 'Flower Color Classifier.csv'\n",
    "\n",
    "submission.to_csv(filename,index=False)\n",
    "\n",
    "print('Saved file: ' + filename)"
   ]
  },
  {
   "cell_type": "code",
   "execution_count": null,
   "metadata": {},
   "outputs": [],
   "source": []
  }
 ],
 "metadata": {
  "kernelspec": {
   "display_name": "Python 3",
   "language": "python",
   "name": "python3"
  },
  "language_info": {
   "codemirror_mode": {
    "name": "ipython",
    "version": 3
   },
   "file_extension": ".py",
   "mimetype": "text/x-python",
   "name": "python",
   "nbconvert_exporter": "python",
   "pygments_lexer": "ipython3",
   "version": "3.6.6"
  }
 },
 "nbformat": 4,
 "nbformat_minor": 1
}
